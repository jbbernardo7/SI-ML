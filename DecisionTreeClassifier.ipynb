{
 "cells": [
  {
   "cell_type": "code",
   "execution_count": null,
   "id": "8ed99e6a",
   "metadata": {},
   "outputs": [],
   "source": [
    "import time\n",
    "import pandas as pd\n",
    "from sklearn.datasets import load_iris\n",
    "from sklearn.model_selection import train_test_split\n",
    "from sklearn.metrics import confusion_matrix, classification_report, accuracy_score\n",
    "from sklearn.tree import DecisionTreeClassifier"
   ]
  },
  {
   "cell_type": "code",
   "execution_count": null,
   "id": "d1e02b77",
   "metadata": {},
   "outputs": [],
   "source": [
    "iris = load_iris() \n",
    "df = pd.DataFrame(data=iris.data, columns=iris.feature_names)\n",
    "df['target'] = iris.target\n",
    "df.head()"
   ]
  },
  {
   "cell_type": "code",
   "execution_count": null,
   "id": "44c84a6c",
   "metadata": {},
   "outputs": [],
   "source": [
    "X = iris.data\n",
    "y = iris.target\n",
    "X_train, X_test, y_train, y_test = train_test_split(X, y, test_size=0.3)"
   ]
  },
  {
   "cell_type": "code",
   "execution_count": null,
   "id": "d4893910",
   "metadata": {},
   "outputs": [],
   "source": [
    "print([X_train.shape, y_train.shape], [X_test.shape, y_test.shape])"
   ]
  },
  {
   "cell_type": "code",
   "execution_count": null,
   "id": "9fb7208f",
   "metadata": {},
   "outputs": [],
   "source": [
    "dtc = DecisionTreeClassifier(criterion='entropy')\n",
    "dtc.get_params()"
   ]
  },
  {
   "cell_type": "code",
   "execution_count": null,
   "id": "618f096d",
   "metadata": {},
   "outputs": [],
   "source": [
    "start_time = time.time()\n",
    "\n",
    "dtc.fit(X_train, y_train)\n",
    "y_pred = dtc.predict(X_test)\n",
    "\n",
    "end_time = time.time()\n",
    "execution_time = end_time - start_time\n",
    "dtc"
   ]
  },
  {
   "cell_type": "code",
   "execution_count": null,
   "id": "8f3f055a",
   "metadata": {},
   "outputs": [],
   "source": [
    "print(\"Execution Time:\")\n",
    "print(f\"{execution_time:.8f} seconds\")"
   ]
  },
  {
   "cell_type": "code",
   "execution_count": null,
   "id": "b8a60b5e",
   "metadata": {},
   "outputs": [],
   "source": [
    "total_nodes = dtc.tree_.node_count\n",
    "print(f\"Total number of nodes in the tree:\")\n",
    "print(total_nodes)"
   ]
  },
  {
   "cell_type": "code",
   "execution_count": null,
   "id": "b9c8c8ba",
   "metadata": {},
   "outputs": [],
   "source": [
    "import numpy as np\n",
    "\n",
    "node_indicator = dtc.decision_path(X_test)\n",
    "nodes_visited_per_sample = node_indicator.sum(axis=1)\n",
    "nodes_visited = np.array(nodes_visited_per_sample).flatten()\n",
    "\n",
    "print(f\"Average nodes visited: {np.mean(nodes_visited):.2f}\")\n",
    "print(f\"Total nodes visited over all samples: {np.sum(nodes_visited)}\")"
   ]
  },
  {
   "cell_type": "code",
   "execution_count": null,
   "id": "76e3aa7e",
   "metadata": {},
   "outputs": [],
   "source": [
    "print(\"Confusion Matrix:\")\n",
    "print(confusion_matrix(y_test, y_pred))"
   ]
  },
  {
   "cell_type": "code",
   "execution_count": null,
   "id": "6bd089d5",
   "metadata": {},
   "outputs": [],
   "source": [
    "print(accuracy_score(y_test, y_pred))"
   ]
  },
  {
   "cell_type": "code",
   "execution_count": null,
   "id": "46f83b67",
   "metadata": {},
   "outputs": [],
   "source": [
    "print(classification_report(y_test, y_pred))"
   ]
  },
  {
   "cell_type": "code",
   "execution_count": null,
   "id": "1c93e00a",
   "metadata": {},
   "outputs": [],
   "source": [
    "features = pd.DataFrame(dtc.feature_importances_, index=iris.feature_names)\n",
    "features"
   ]
  },
  {
   "cell_type": "code",
   "execution_count": null,
   "id": "b0ad4f27",
   "metadata": {},
   "outputs": [],
   "source": [
    "from sklearn import tree\n",
    "\n",
    "import matplotlib.pyplot as plt\n",
    "\n",
    "plt.figure(figsize=(16,8))\n",
    "tree.plot_tree(dtc, feature_names=iris.feature_names, class_names=iris.target_names, filled=True)\n",
    "plt.show()"
   ]
  }
 ],
 "metadata": {
  "kernelspec": {
   "display_name": "Python 3",
   "language": "python",
   "name": "python3"
  },
  "language_info": {
   "codemirror_mode": {
    "name": "ipython",
    "version": 3
   },
   "file_extension": ".py",
   "mimetype": "text/x-python",
   "name": "python",
   "nbconvert_exporter": "python",
   "pygments_lexer": "ipython3",
   "version": "3.11.2"
  }
 },
 "nbformat": 4,
 "nbformat_minor": 5
}
